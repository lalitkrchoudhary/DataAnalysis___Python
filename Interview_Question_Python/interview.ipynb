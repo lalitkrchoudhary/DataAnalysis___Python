{
 "cells": [
  {
   "cell_type": "markdown",
   "metadata": {},
   "source": [
    "Decorator\n",
    "=>A function that alters the behaviour of another funcction without changing the orginal code"
   ]
  },
  {
   "cell_type": "code",
   "execution_count": 22,
   "metadata": {},
   "outputs": [
    {
     "name": "stdout",
     "output_type": "stream",
     "text": [
      "1741550231.1199837\n",
      "<class 'float'>\n",
      "example_function is taking 2.0002548694610596 seconds\n"
     ]
    }
   ],
   "source": [
    "#1. Timing functon execution example of decorator\n",
    "import time\n",
    "from datetime import datetime\n",
    "\n",
    "def timer(func):\n",
    "    def wrapper(*args,**kwargs):\n",
    "        start = time.time() # it print the current time \n",
    "        print(start)\n",
    "        print(type(start))\n",
    "        result = func(*args, ** kwargs)\n",
    "        end = time.time()\n",
    "        print(f\"{func.__name__} is taking {end-start} seconds\")\n",
    "\n",
    "        return result\n",
    "    return wrapper\n",
    "\n",
    "@timer\n",
    "def example_function(n):\n",
    "    time.sleep(n)\n",
    "\n",
    "example_function(2)  \n",
    "\n"
   ]
  },
  {
   "cell_type": "code",
   "execution_count": null,
   "metadata": {},
   "outputs": [],
   "source": [
    "#2. Create a decorator to print the function name and variable of its argumensts every time the function is called\n"
   ]
  },
  {
   "cell_type": "code",
   "execution_count": 3,
   "metadata": {},
   "outputs": [
    {
     "name": "stdout",
     "output_type": "stream",
     "text": [
      "2.0\n"
     ]
    }
   ],
   "source": [
    "def swap_fun(func):\n",
    "    def wrapper(a,b):\n",
    "        if a<b:\n",
    "            a,b=b,a\n",
    "        return func(a,b)\n",
    "    return wrapper\n",
    "\n",
    "@swap_fun\n",
    "def division(a,b):\n",
    "    print(a/b)\n",
    "\n",
    "division(2,4)\n"
   ]
  },
  {
   "cell_type": "code",
   "execution_count": null,
   "metadata": {},
   "outputs": [
    {
     "name": "stdout",
     "output_type": "stream",
     "text": [
      "Hello!\n",
      "Hello!\n",
      "Hello!\n"
     ]
    }
   ],
   "source": [
    "#Can decorators take arguments? How?\n",
    "#Answer: Yes, decorators can take arguments by using a decorator factory (a function that returns a decorator).\n",
    "#Example:\n",
    "def repeat(n):\n",
    "    def decorator(func):\n",
    "       \n",
    "        def wrapper(*args, **kwargs):\n",
    "            for _ in range(n):\n",
    "                func(*args, **kwargs)\n",
    "        return wrapper\n",
    "    return decorator\n",
    "\n",
    "@repeat(3)\n",
    "def say_hello():\n",
    "    print(\"Hello!\")\n",
    "\n",
    "say_hello()\n"
   ]
  },
  {
   "cell_type": "code",
   "execution_count": null,
   "metadata": {},
   "outputs": [
    {
     "name": "stdout",
     "output_type": "stream",
     "text": [
      "Before function call\n",
      "Hello!\n",
      "After function call\n"
     ]
    }
   ],
   "source": [
    "#What are class-based decorators?\n",
    "#Answer: A class-based decorator uses __call__ method instead of a function.\n",
    "#Example:\n",
    "class MyDecorator:\n",
    "    def __init__(self, func):\n",
    "        self.func = func\n",
    "\n",
    "    def __call__(self, *args, **kwargs):\n",
    "        print(\"Before function call\")\n",
    "        result = self.func(*args, **kwargs)\n",
    "        print(\"After function call\")\n",
    "        return result\n",
    "\n",
    "@MyDecorator\n",
    "def greet():\n",
    "    print(\"Hello!\")\n",
    "\n",
    "greet()\n"
   ]
  },
  {
   "cell_type": "code",
   "execution_count": null,
   "metadata": {},
   "outputs": [],
   "source": []
  },
  {
   "cell_type": "markdown",
   "metadata": {},
   "source": [
    "## Iterator\n",
    "An iterator is an object that lets you loop through iterable object like list, tuples and sets .\n",
    "In for loop the iterator is used behind the scene\n"
   ]
  },
  {
   "cell_type": "code",
   "execution_count": null,
   "metadata": {},
   "outputs": [
    {
     "name": "stdout",
     "output_type": "stream",
     "text": [
      "1\n"
     ]
    }
   ],
   "source": [
    "#What is the difference between an iterable and an iterator?\n",
    "#Answer:\n",
    "\n",
    "#Iterable: An object that contains a collection of elements and has an __iter__() method (e.g., list, tuple, dictionary).\n",
    "#Iterator: An object that returns elements one by one using __next__() and maintains the state during iteration.\n",
    "\n",
    "\n",
    "#Example\n",
    "lis=[1,2,4,5,3]\n",
    "it =iter(lis)\n",
    "print(it.__next__())"
   ]
  },
  {
   "cell_type": "code",
   "execution_count": null,
   "metadata": {},
   "outputs": [
    {
     "name": "stdout",
     "output_type": "stream",
     "text": [
      "1\n",
      "2\n",
      "3\n",
      "4\n",
      "5\n",
      "6\n",
      "7\n",
      "8\n",
      "9\n",
      "10\n"
     ]
    }
   ],
   "source": [
    "#Example to create your own iterator\n",
    "class TopTen:\n",
    "    def __init__(self):\n",
    "        self.num=1\n",
    "\n",
    "    def __iter__(self):\n",
    "        return self\n",
    "    \n",
    "    def __next__(self):\n",
    "        if self.num<=10:\n",
    "            val=self.num\n",
    "            self.num +=1\n",
    "            return val\n",
    "        else:\n",
    "            raise StopIteration\n",
    "    \n",
    "\n",
    "values= TopTen()\n",
    "for i in values:\n",
    "    print(i)"
   ]
  },
  {
   "cell_type": "code",
   "execution_count": 21,
   "metadata": {},
   "outputs": [
    {
     "name": "stdout",
     "output_type": "stream",
     "text": [
      "l\n",
      "a\n",
      "l\n",
      "i\n",
      "t\n",
      " \n",
      "k\n",
      "u\n",
      "m\n",
      "a\n",
      "r\n"
     ]
    }
   ],
   "source": [
    "#Convert string into iterable using iterator\n",
    "str=\"lalit kumar\"\n",
    "it = iter(str)\n",
    "while True:\n",
    "    try:\n",
    "        item=next(it)\n",
    "        print(item)\n",
    "    \n",
    "    except StopIteration:\n",
    "        break\n"
   ]
  },
  {
   "cell_type": "code",
   "execution_count": null,
   "metadata": {},
   "outputs": [],
   "source": []
  },
  {
   "cell_type": "markdown",
   "metadata": {},
   "source": [
    "## Generator\n",
    "A generator is a function that produces values one at a time, instead of returning all values at ones.\n",
    "Generator  are usefull for processing  large amount of data without loading the entire dataset into memory\n"
   ]
  },
  {
   "cell_type": "markdown",
   "metadata": {},
   "source": []
  },
  {
   "cell_type": "code",
   "execution_count": null,
   "metadata": {},
   "outputs": [
    {
     "name": "stdout",
     "output_type": "stream",
     "text": [
      "1\n",
      "2\n"
     ]
    }
   ],
   "source": [
    "#Example1 generator which return iterator\n",
    "\n",
    "def gen():\n",
    "    \n",
    "    yield 1\n",
    "    yield 2\n",
    "    yield 3\n",
    "    yield 4\n",
    "\n",
    "res=gen()\n",
    "print(res.__next__())\n",
    "print(res.__next__())\n",
    "\n"
   ]
  },
  {
   "cell_type": "code",
   "execution_count": null,
   "metadata": {},
   "outputs": [
    {
     "name": "stdout",
     "output_type": "stream",
     "text": [
      "1\n",
      "4\n",
      "9\n",
      "16\n",
      "25\n",
      "36\n",
      "49\n",
      "64\n",
      "81\n",
      "100\n"
     ]
    }
   ],
   "source": [
    "#Example2 \n",
    "def topten():\n",
    "    n=1\n",
    "    while n<=10:\n",
    "        sq=n*n\n",
    "        yield sq\n",
    "        n+=1\n",
    "\n",
    "\n",
    "value=topten()\n",
    "for i in value:\n",
    "    print(i)"
   ]
  },
  {
   "cell_type": "code",
   "execution_count": null,
   "metadata": {},
   "outputs": [],
   "source": [
    "# The next() function is used to reterive the elements fromt a generator object\n",
    "#Syntax: next(generator_object)\n",
    "\n",
    "\n",
    "#How is a generator different from an iterator?\n",
    "#Answer:\n",
    "#A generator is a function that automatically implements __iter__() and __next__(), whereas an iterator requires explicitly defining these methods.\n",
    "#A generator uses yield instead of return to produce values lazily.\n",
    "#Generators consume less memory than iterators with precomputed lists.\n",
    "\n",
    "\n",
    "#What is the difference between yield and return?\n",
    "#Answer:\n",
    "#return: Ends function execution and returns a value.\n",
    "#yield: Pauses function execution, returns a value, and resumes from the same point on the next call.\n",
    "\n",
    "\n",
    "#What is a generator expression, and how does it differ from a list comprehension?\n",
    "#Answer:\n",
    "#A generator expression is similar to a list comprehension \n",
    "# but uses parentheses () instead of square brackets [], creating a generator instead of a list."
   ]
  },
  {
   "cell_type": "code",
   "execution_count": 3,
   "metadata": {},
   "outputs": [
    {
     "name": "stdout",
     "output_type": "stream",
     "text": [
      "Start\n",
      "1\n",
      "2\n",
      "End\n"
     ]
    }
   ],
   "source": [
    "#Yield form\n",
    "def sub_generator():\n",
    "    yield 1\n",
    "    yield 2\n",
    "\n",
    "def main_generator():\n",
    "    yield \"Start\"\n",
    "    yield from sub_generator()  # Delegates to sub_generator\n",
    "    yield \"End\"\n",
    "\n",
    "for val in main_generator():\n",
    "    print(val)\n"
   ]
  },
  {
   "cell_type": "code",
   "execution_count": null,
   "metadata": {},
   "outputs": [],
   "source": []
  },
  {
   "cell_type": "markdown",
   "metadata": {},
   "source": [
    "## Dunder method or Magic method\n",
    "Magic method are the methods starting and ending with double underscores \"__\". They are defined by built-in class in Python and commonly used for operator overloading."
   ]
  },
  {
   "cell_type": "code",
   "execution_count": null,
   "metadata": {},
   "outputs": [
    {
     "name": "stdout",
     "output_type": "stream",
     "text": [
      "['In', 'Out', '_', '__', '___', '__builtin__', '__builtins__', '__doc__', '__loader__', '__name__', '__package__', '__spec__', '__vsc_ipynb_file__', '_dh', '_i', '_i1', '_i2', '_i3', '_i4', '_ih', '_ii', '_iii', '_oh', 'exit', 'get_ipython', 'main_generator', 'open', 'quit', 'sub_generator', 'val']\n"
     ]
    }
   ],
   "source": [
    "print(dir())"
   ]
  },
  {
   "cell_type": "code",
   "execution_count": 8,
   "metadata": {},
   "outputs": [
    {
     "name": "stdout",
     "output_type": "stream",
     "text": [
      "Vecotr(3,3)\n"
     ]
    }
   ],
   "source": [
    "#How do you override arithmetic operators using magic methods?\n",
    "#Answer:\n",
    "#Python allows operator overloading using magic methods like __add__, __sub__, __mul__, etc.\n",
    "\n",
    "#Example (__add__ for adding two objects):\n",
    "\n",
    "class Vector:\n",
    "    def __init__(self,x,y):\n",
    "        self.x=x\n",
    "        self.y=y\n",
    "\n",
    "    def __add__(self,other):\n",
    "        return Vector(self.x+other.x,self.y+other.y)\n",
    "    \n",
    "    def __str__(self):\n",
    "        return f\"Vecotr({self.x},{self.y})\"\n",
    "    \n",
    "v1=Vector(1,2)\n",
    "v2=Vector(2,1)\n",
    "print(v1+v2)\n"
   ]
  },
  {
   "cell_type": "code",
   "execution_count": null,
   "metadata": {},
   "outputs": [
    {
     "name": "stdout",
     "output_type": "stream",
     "text": [
      "False\n"
     ]
    }
   ],
   "source": [
    "#EQ method without overriddern\n",
    "class Person:\n",
    "    def __init__(self, name, age):\n",
    "        self.name = name\n",
    "        self.age = age\n",
    "\n",
    "p1 = Person(\"Alice\", 30)\n",
    "p2 = Person(\"Alice\", 30)\n",
    "print(p1 == p2)  # Calls __eq__, Output: True\n"
   ]
  },
  {
   "cell_type": "code",
   "execution_count": null,
   "metadata": {},
   "outputs": [
    {
     "name": "stdout",
     "output_type": "stream",
     "text": [
      "True\n"
     ]
    }
   ],
   "source": [
    "#Eq method with overriddern\n",
    "class Person:\n",
    "    def __init__(self, name, age):\n",
    "        self.name = name\n",
    "        self.age = age\n",
    "\n",
    "    def __eq__(self, other):\n",
    "        return self.name == other.name and self.age == other.age\n",
    "\n",
    "p1 = Person(\"Alice\", 30)\n",
    "p2 = Person(\"Alice\", 30)\n",
    "print(p1 == p2)  # Calls __eq__, Output: True\n"
   ]
  },
  {
   "cell_type": "code",
   "execution_count": null,
   "metadata": {},
   "outputs": [
    {
     "name": "stdout",
     "output_type": "stream",
     "text": [
      "[1, 2, 3, 4, 5, 6, 7]\n"
     ]
    }
   ],
   "source": [
    "#importaint dsa question using method\n",
    "def flatten(nested_list):\n",
    "    return [item for sublist in nested_list for item in (flatten(sublist) if isinstance(sublist, list) else [sublist])]\n",
    "\n",
    "nested_list = [[1, 2, [3, 4]], [5, 6], 7]\n",
    "flattened = flatten(nested_list)\n",
    "print(flattened)  # Output: [1, 2, 3, 4, 5, 6, 7]\n"
   ]
  },
  {
   "cell_type": "code",
   "execution_count": 16,
   "metadata": {},
   "outputs": [
    {
     "name": "stdout",
     "output_type": "stream",
     "text": [
      "[1, 2, 3, 4, 5, 6, 7]\n"
     ]
    }
   ],
   "source": [
    "#Flattened list without using comprehension\n",
    "def flatten_list(nested_list, flat_list=[]):\n",
    "    for item in nested_list:\n",
    "        if isinstance(item, list):  # If item is a list, process it recursively\n",
    "            flatten_list(item, flat_list)\n",
    "        else:  # If it's not a list, add it to the result\n",
    "            flat_list.append(item)\n",
    "    return flat_list\n",
    "\n",
    "# Example usage:\n",
    "nested_list = [[1, 2, [3, 4]], [5, 6], 7]\n",
    "flattened = flatten_list(nested_list, [])\n",
    "print(flattened)  # Output: [1, 2, 3, 4, 5, 6, 7]\n"
   ]
  },
  {
   "cell_type": "code",
   "execution_count": null,
   "metadata": {},
   "outputs": [],
   "source": []
  },
  {
   "cell_type": "markdown",
   "metadata": {},
   "source": [
    "## Exception Handling in python"
   ]
  },
  {
   "cell_type": "code",
   "execution_count": null,
   "metadata": {},
   "outputs": [
    {
     "name": "stdout",
     "output_type": "stream",
     "text": [
      "File content:\n",
      "hello wrold lalit\n",
      "File closed.\n",
      "Execution completed.\n"
     ]
    }
   ],
   "source": [
    "def read_file(filename):\n",
    "    file = None\n",
    "    try:\n",
    "        file = open(filename, 'r')\n",
    "        content = file.read()\n",
    "        print(\"File content:\")\n",
    "        print(content)\n",
    "    except FileNotFoundError:\n",
    "        print(f\"Error: The file '{filename}' was not found.\")\n",
    "    except PermissionError:\n",
    "        print(f\"Error: Permission denied while accessing '{filename}'.\")\n",
    "    except Exception as e:\n",
    "        print(f\"An unexpected error occurred: {e}\")\n",
    "    finally:\n",
    "        if file:\n",
    "            file.close()\n",
    "            print(\"File closed.\")\n",
    "        print(\"Execution completed.\")\n",
    "\n",
    "# Example usage\n",
    "filename = \"sample.txt\"\n",
    "read_file(filename)\n"
   ]
  },
  {
   "cell_type": "code",
   "execution_count": 8,
   "metadata": {},
   "outputs": [
    {
     "name": "stdout",
     "output_type": "stream",
     "text": [
      "You have to maintain the sufficient balance\n"
     ]
    }
   ],
   "source": [
    "#User define exception using raise\n",
    "#Raise is used for raise the user define handle user define exception\n",
    "#Example\n",
    "\n",
    "class BalanceException(Exception):\n",
    "    pass\n",
    "\n",
    "def bank():\n",
    "    money=1000\n",
    "    withdrawl=800\n",
    "    try:\n",
    "        balance=money-withdrawl\n",
    "        if(balance<=200):\n",
    "            raise BalanceException(\"You have to maintain the sufficient balance\")\n",
    "        print(balance)\n",
    "    except BalanceException as be:\n",
    "        print(be)\n",
    "\n",
    "\n",
    "bank()\n"
   ]
  },
  {
   "cell_type": "code",
   "execution_count": 9,
   "metadata": {},
   "outputs": [
    {
     "name": "stdout",
     "output_type": "stream",
     "text": [
      "(<class 'ZeroDivisionError'>, ZeroDivisionError('division by zero'), <traceback object at 0x77e8dda46080>)\n"
     ]
    }
   ],
   "source": [
    "import sys\n",
    "\n",
    "try:\n",
    "    x = 1 / 0\n",
    "except:\n",
    "    print(sys.exc_info())  \n",
    "    "
   ]
  },
  {
   "cell_type": "code",
   "execution_count": null,
   "metadata": {},
   "outputs": [],
   "source": []
  },
  {
   "cell_type": "markdown",
   "metadata": {},
   "source": [
    "## Multithreading and Multiprocessing "
   ]
  },
  {
   "cell_type": "markdown",
   "metadata": {},
   "source": [
    "##### To use threading we have to import threading \n",
    "\n",
    "\n",
    "\n"
   ]
  },
  {
   "cell_type": "code",
   "execution_count": 10,
   "metadata": {},
   "outputs": [
    {
     "name": "stdout",
     "output_type": "stream",
     "text": [
      "hello world\n",
      "MainThread\n"
     ]
    },
    {
     "name": "stderr",
     "output_type": "stream",
     "text": [
      "/tmp/ipykernel_275925/1255179631.py:4: DeprecationWarning: getName() is deprecated, get the name attribute instead\n",
      "  t=threading.current_thread().getName()\n"
     ]
    }
   ],
   "source": [
    "#Example for checking the main thread is running by default or not\n",
    "import threading\n",
    "\n",
    "t=threading.current_thread().getName()\n",
    "print(\"hello world\")\n",
    "print(t)\n"
   ]
  },
  {
   "cell_type": "code",
   "execution_count": 34,
   "metadata": {},
   "outputs": [
    {
     "name": "stdout",
     "output_type": "stream",
     "text": [
      "The thread is runnnnig 10\n"
     ]
    }
   ],
   "source": [
    "#Creating a thread without using a class\n",
    "from threading import Thread\n",
    "\n",
    "def disp(a):\n",
    "    print(\"The thread is runnnnig\",a)\n",
    "\n",
    "t=Thread(target=disp,args=(10,)) #In target we have to pass function, and in args we have to pass tuples\n",
    "t.start()"
   ]
  },
  {
   "cell_type": "code",
   "execution_count": 2,
   "metadata": {},
   "outputs": [
    {
     "name": "stdout",
     "output_type": "stream",
     "text": [
      "Thread-32\n"
     ]
    }
   ],
   "source": [
    "#Creating a thread by creating a child class to Thread Class\n",
    "#Ans : we can create our own thread child by inheriting Thread class from threading module\n",
    "#Example\n",
    "from threading import Thread\n",
    "class Mythread(Thread):\n",
    "    pass\n",
    "\n",
    "t=Mythread()\n",
    "print(t.name)"
   ]
  },
  {
   "cell_type": "code",
   "execution_count": 9,
   "metadata": {},
   "outputs": [
    {
     "name": "stdout",
     "output_type": "stream",
     "text": [
      "Main thread is running\n",
      "Main thread is running\n",
      "Main thread is running\n",
      "Main thread is running\n",
      "Main thread is running\n"
     ]
    }
   ],
   "source": [
    "#Thread using join\n",
    "from threading import Thread\n",
    "\n",
    "class MyThreads(Thread):\n",
    "\n",
    "    def run(self):\n",
    "        for i in range(4):\n",
    "            print(\"Child thread\")\n",
    "\n",
    "th=MyThreads()\n",
    "th.start()\n",
    "th.join()\n",
    "\n",
    "for i in range(5):\n",
    "    print(\"Main thread is running\")\n",
    "\n",
    "\n",
    "\n"
   ]
  },
  {
   "cell_type": "code",
   "execution_count": 10,
   "metadata": {},
   "outputs": [
    {
     "name": "stdout",
     "output_type": "stream",
     "text": [
      "10 20\n"
     ]
    }
   ],
   "source": [
    "#Creating a thread without creating child class to Thread class\n",
    "from threading import Thread\n",
    "class My:\n",
    "    def disp(self,a,b):\n",
    "        print(a,b)\n",
    "\n",
    "my=My()\n",
    "t=Thread(target=my.disp,args=(10,20))\n",
    "t.start()\n"
   ]
  },
  {
   "cell_type": "code",
   "execution_count": null,
   "metadata": {},
   "outputs": [
    {
     "name": "stdout",
     "output_type": "stream",
     "text": [
      "Available seat : 1\n",
      "1 seat is alloted to Rahul\n",
      "Available seat : 0\n",
      "Sorry the seat is not available\n"
     ]
    }
   ],
   "source": [
    "#Example Race condition in multithreding also using lock concept\n",
    "from threading import Thread,current_thread,Lock,RLock\n",
    "\n",
    "class Flight:\n",
    "    def __init__(self,available_seat):\n",
    "        self.available_seat=available_seat\n",
    "        self.l=Lock()\n",
    "\n",
    "    def reserve(self,need_seat):\n",
    "        self.l.acquire()\n",
    "        print(\"Available seat :\",self.available_seat)\n",
    "        if(self.available_seat>=need_seat):\n",
    "            name=current_thread().name\n",
    "            print(f'{need_seat} seat is alloted to {name}')\n",
    "            self.available_seat -=need_seat\n",
    "        else:\n",
    "            print(\"Sorry the seat is not available\")\n",
    "        self.l.release()\n",
    "\n",
    "f=Flight(1)\n",
    "t1=Thread(target=f.reserve,args=(1,),name=\"Rahul\")\n",
    "t2=Thread(target=f.reserve,args=(1,),name=\"Lalit\")\n",
    "t1.start()\n",
    "t2.start()\n"
   ]
  },
  {
   "cell_type": "code",
   "execution_count": 31,
   "metadata": {},
   "outputs": [
    {
     "name": "stdout",
     "output_type": "stream",
     "text": [
      "5\n",
      "None\n",
      "[5, 4, 3, 2, 1]\n",
      "[1, 2, 3, 4, 5, 6]\n"
     ]
    }
   ],
   "source": [
    "#Example reverse a list using recursion\n",
    "li=[1,2,3,4,5]\n",
    " \n",
    "def reverse(lis,l,r):\n",
    "    if(l>r): return\n",
    "    lis[l],lis[r]=lis[r],lis[l]\n",
    "\n",
    "    reverse(lis,l+1,r-1)\n",
    "n=len(li)\n",
    "print(n)\n",
    "ans=reverse(li,0,n-1)\n",
    "print(ans)\n",
    "print(li)\n",
    "\n",
    "lis=[1,2,3,4,5,6]\n",
    "\n",
    "def rev(lis,i):\n",
    "    n=len(lis)\n",
    "    if(i<=n//2): return\n",
    "    lis[i],lis[n-i-1]=lis[n-i-1],lis[i]\n",
    "    rev(lis,i+1)\n",
    "rev(lis,0)\n",
    "print(lis)\n"
   ]
  },
  {
   "cell_type": "code",
   "execution_count": 32,
   "metadata": {},
   "outputs": [
    {
     "name": "stdout",
     "output_type": "stream",
     "text": [
      "False\n"
     ]
    }
   ],
   "source": [
    "#Check if the string is palindrome or not using recursion\n",
    "strs=\"madan\"\n",
    "def palindrom(str,i):\n",
    "    n=len(str)\n",
    "    if(i>=n/2):\n",
    "        return True\n",
    "    \n",
    "    if(str[i]!=str[n-i-1]):\n",
    "        return False\n",
    "    return palindrom(str,i+1)\n",
    "\n",
    "\n",
    "print(palindrom(strs,0))\n",
    "    "
   ]
  },
  {
   "cell_type": "code",
   "execution_count": 33,
   "metadata": {},
   "outputs": [
    {
     "data": {
      "text/plain": [
       "3"
      ]
     },
     "execution_count": 33,
     "metadata": {},
     "output_type": "execute_result"
    }
   ],
   "source": [
    "#Fibonaci number using recursion\n",
    "\n",
    "def fib(n):\n",
    "    if(n<=1): return n\n",
    "    first=fib(n-1)\n",
    "    second=fib(n-2)\n",
    "    return first+second\n",
    "\n",
    "fib(4)\n"
   ]
  },
  {
   "cell_type": "code",
   "execution_count": null,
   "metadata": {},
   "outputs": [],
   "source": [
    "    "
   ]
  },
  {
   "cell_type": "markdown",
   "metadata": {},
   "source": []
  },
  {
   "cell_type": "markdown",
   "metadata": {},
   "source": [
    "### Class and Objects\n",
    "- A class is a blue print for creating an object"
   ]
  },
  {
   "cell_type": "code",
   "execution_count": null,
   "metadata": {},
   "outputs": [
    {
     "name": "stdout",
     "output_type": "stream",
     "text": [
      "Tesla support automatic self driving and have 6 windows\n",
      "The person will drive the electric car\n"
     ]
    }
   ],
   "source": [
    "## Inhertance In Python\n",
    "#Inheritance is a fundamental concept in OOP that allows a class to inherit attributes and methods from another class\n",
    "\n",
    "# lis=[1,4,3,2]\n",
    "# def two_sum(l,k):\n",
    "#     for i in range(len(l)):\n",
    "#         for j in range(i+1,len(l)):\n",
    "#             if(i+j==k):\n",
    "#                 return True\n",
    "    \n",
    "#     return False\n",
    "# print(two_sum(lis,8))\n",
    "\n",
    "#Example for Single Inheritance\n",
    "class Car:\n",
    "    def __init__(self,windows,doors,engine_type):\n",
    "        self.windows=windows\n",
    "        self.doors=doors\n",
    "        self.engine_type=engine_type\n",
    "    def drive(self):\n",
    "        print(f\"The person will drive the {self.engine_type} car\")\n",
    "\n",
    "\n",
    "\n",
    "class Tesla(Car):\n",
    "    def __init__(self, windows, doors, engine_type,is_selfdriving):\n",
    "        super().__init__(windows, doors, engine_type)\n",
    "        self.is_selfdriving=is_selfdriving\n",
    "\n",
    "    def selfdriving(self):\n",
    "        print(f\"Tesla support {self.is_selfdriving} self driving and have {self.windows} windows\")\n",
    "\n",
    "\n",
    "t=Tesla(6,4,\"electric\",\"automatic\")\n",
    "t.selfdriving()\n",
    "t.drive()\n",
    "\n"
   ]
  },
  {
   "cell_type": "code",
   "execution_count": 14,
   "metadata": {},
   "outputs": [
    {
     "name": "stdout",
     "output_type": "stream",
     "text": [
      "the name is Puppy and the owner is Lalit\n"
     ]
    }
   ],
   "source": [
    "#Example for multiple inhertance class\n",
    "## When a class inherits from more than one basee class\n",
    "\n",
    "#Base class one\n",
    "class Animal:\n",
    "    def __init__(self,name):\n",
    "        self.name=name\n",
    "\n",
    "    def speak(self):\n",
    "        print(\"Subclass must impleemnt this mehtod\")\n",
    "    \n",
    "#Base class two\n",
    "class Pet:\n",
    "    def __init__(self,owner):\n",
    "        self.owner=owner\n",
    "\n",
    "\n",
    "#Derived class\n",
    "class Dog(Animal,Pet):\n",
    "    def __init__(self, name,owner):\n",
    "        Animal.__init__(self,name)\n",
    "        Pet.__init__(self,owner)\n",
    "    \n",
    "    def speak(self):\n",
    "        print(f\"the name is {self.name} and the owner is {self.owner}\")\n",
    "\n",
    "\n",
    "d=Dog(\"Puppy\",\"Lalit\")\n",
    "d.speak()"
   ]
  },
  {
   "cell_type": "code",
   "execution_count": 1,
   "metadata": {},
   "outputs": [
    {
     "name": "stdout",
     "output_type": "stream",
     "text": [
      "the car is started\n",
      "The vehicle is used fro driving\n"
     ]
    }
   ],
   "source": [
    "### Polymorphism\n",
    "# It provides a way to perform a single action in different forms\n",
    "#It is typically achieved  through method overriding and interface\n",
    "\n",
    "from abc import ABC, abstractmethod #Basically it is a inhertance in python \n",
    "#Example\n",
    "class Vehicle(ABC):\n",
    "    def drive(self):\n",
    "        print(\"The vehicle is used fro driving\")\n",
    "    \n",
    "    @abstractmethod\n",
    "    def start_engine():\n",
    "        pass\n",
    "\n",
    "class Car(Vehicle):\n",
    "    def start_engine(self):\n",
    "        print(\"the car is started\")\n",
    "\n",
    "def all(argu):\n",
    "    argu.start_engine()\n",
    "    argu.drive()\n",
    "\n",
    "c=Car()\n",
    "\n",
    "all(c)\n",
    "\n"
   ]
  },
  {
   "cell_type": "code",
   "execution_count": null,
   "metadata": {},
   "outputs": [],
   "source": [
    "'''\n",
    "Check whether a number is odd or even without using ' if else ' .\n",
    "Time complexity of adding an element into linked list.\n",
    "Find sum of all the numbers in an array using recursion.\n",
    "They asked to solve leadership problem of dsa.\n",
    "How can you insert the letters from A-Z in an array?\n",
    " Find the pivot element in the array\n",
    "   2. Largest element is given in the middle of \n",
    "   the array and we have to arrange the numbers in the left and right side \n",
    "   in ascending and descending respectively. 3. third one is related to bubblesort\n",
    "'''"
   ]
  },
  {
   "cell_type": "code",
   "execution_count": 5,
   "metadata": {},
   "outputs": [
    {
     "name": "stdout",
     "output_type": "stream",
     "text": [
      "Odd\n",
      "Sum of array: 15\n",
      "['A', 'B', 'C', 'D', 'E', 'F', 'G', 'H', 'I', 'J', 'K', 'L', 'M', 'N', 'O', 'P', 'Q', 'R', 'S', 'T', 'U', 'V', 'W', 'X', 'Y', 'Z']\n"
     ]
    }
   ],
   "source": [
    "#Check whether a number is odd or even without using ' if else ' \n",
    "num = int(input(\"Enter a number: \"))\n",
    "check = {0: \"Even\", 1: \"Odd\"}\n",
    "print(check[num % 2])\n",
    "\n",
    "#Time complexity of adding an element into linked list.\n",
    "# Operation\tWith Tail Pointer\tWithout Tail Pointer\n",
    "# Insert at Head\tO(1)\tO(1)\n",
    "# Insert at Tail\tO(1)\tO(n)\n",
    "# Insert at Middle\tO(n)\tO(n)\n",
    "\n",
    "#Find sum of all the numbers in an array using recursion.\n",
    "def sum_array(arr, n):\n",
    "    # Base case: If the array is empty, return 0\n",
    "    if n == 0:\n",
    "        return 0\n",
    "    # Recursive case: Sum of the last element + sum of the remaining array\n",
    "    return arr[n - 1] + sum_array(arr, n - 1)\n",
    "\n",
    "# Example usage\n",
    "arr = [1, 2, 3, 4, 5]\n",
    "result = sum_array(arr, len(arr))\n",
    "print(\"Sum of array:\", result)\n",
    "\n",
    "#How can you insert the letters from A-Z in an array?\n",
    "letters = []\n",
    "for i in range(65, 91):\n",
    "    letters.append(chr(i))\n",
    "\n",
    "print(letters)\n",
    "\n",
    "\n"
   ]
  },
  {
   "cell_type": "code",
   "execution_count": 6,
   "metadata": {},
   "outputs": [
    {
     "name": "stdout",
     "output_type": "stream",
     "text": [
      "3\n"
     ]
    }
   ],
   "source": [
    "def longest_subarray_with_sum(arr, target):\n",
    "    n = len(arr)\n",
    "    max_length = 0\n",
    "\n",
    "    for i in range(n):\n",
    "        sum_ = 0\n",
    "        for j in range(i, n):\n",
    "            sum_ += arr[j]\n",
    "            if sum_ == target:\n",
    "                max_length = max(max_length, j - i + 1)\n",
    "\n",
    "    return max_length\n",
    "\n",
    "# Example usage\n",
    "arr = [1, 2, 3, 4, 5, 6]\n",
    "target = 9\n",
    "print(longest_subarray_with_sum(arr, target))  # Output: 2 ([4,5] or [3,6])\n"
   ]
  },
  {
   "cell_type": "markdown",
   "metadata": {},
   "source": []
  }
 ],
 "metadata": {
  "kernelspec": {
   "display_name": "Python 3",
   "language": "python",
   "name": "python3"
  },
  "language_info": {
   "codemirror_mode": {
    "name": "ipython",
    "version": 3
   },
   "file_extension": ".py",
   "mimetype": "text/x-python",
   "name": "python",
   "nbconvert_exporter": "python",
   "pygments_lexer": "ipython3",
   "version": "3.12.0"
  }
 },
 "nbformat": 4,
 "nbformat_minor": 2
}
