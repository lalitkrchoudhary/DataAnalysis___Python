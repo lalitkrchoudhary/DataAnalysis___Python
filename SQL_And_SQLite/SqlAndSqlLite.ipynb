{
 "cells": [
  {
   "cell_type": "markdown",
   "metadata": {},
   "source": [
    "### SQL And SQLite\n",
    "SQL(Structured Query Language) is a standard language for managing and manipulation realtion databases.\n",
    "SQLite is a self-contained, serverless, and zero-configuration databases engine that is widely used for embeded\n",
    "database systems. "
   ]
  },
  {
   "cell_type": "code",
   "execution_count": 1,
   "metadata": {},
   "outputs": [],
   "source": [
    "import sqlite3"
   ]
  },
  {
   "cell_type": "code",
   "execution_count": 4,
   "metadata": {},
   "outputs": [
    {
     "data": {
      "text/plain": [
       "<sqlite3.Connection at 0x77073d4a05e0>"
      ]
     },
     "execution_count": 4,
     "metadata": {},
     "output_type": "execute_result"
    }
   ],
   "source": [
    "## Connect to an SQLite database\n",
    "connection=sqlite3.connect('example.db') #Creating a connection and also create a example.db file\n",
    "connection"
   ]
  },
  {
   "cell_type": "code",
   "execution_count": 5,
   "metadata": {},
   "outputs": [],
   "source": [
    "#Creating a cursor so it can iterate through all the table like rows and columns\n",
    "cursor=connection.cursor()"
   ]
  },
  {
   "cell_type": "code",
   "execution_count": 7,
   "metadata": {},
   "outputs": [],
   "source": [
    "cursor.execute(\n",
    "    '''\n",
    "Create Table If Not Exists employees(\n",
    "id Integer Primary Key,\n",
    "name text Not Null,\n",
    "age Integer,\n",
    "department text\n",
    ")\n",
    "'''\n",
    ")\n",
    "\n",
    "\n",
    "## Commit  the changes\n",
    "connection.commit()"
   ]
  },
  {
   "cell_type": "code",
   "execution_count": 9,
   "metadata": {},
   "outputs": [
    {
     "data": {
      "text/plain": [
       "<sqlite3.Cursor at 0x77073d46d340>"
      ]
     },
     "execution_count": 9,
     "metadata": {},
     "output_type": "execute_result"
    }
   ],
   "source": [
    "cursor.execute(\n",
    "    '''\n",
    "Select * from employees\n",
    "'''\n",
    ")"
   ]
  },
  {
   "cell_type": "code",
   "execution_count": 10,
   "metadata": {},
   "outputs": [],
   "source": [
    "#Insert the data in sqlite\n",
    "cursor.execute(\n",
    "    ''' \n",
    "insert into employees(name,age,department) values('Lalit',32,'Java')\n",
    "'''\n",
    ")\n",
    "cursor.execute(\n",
    "    ''' \n",
    "insert into employees(name,age,department) values('Rahul',24,'Python')\n",
    "'''\n",
    ")\n",
    "cursor.execute(\n",
    "    ''' \n",
    "insert into employees(name,age,department) values('Saurav',28,'JS')\n",
    "'''\n",
    ")\n",
    "\n",
    "connection.commit()"
   ]
  },
  {
   "cell_type": "code",
   "execution_count": 14,
   "metadata": {},
   "outputs": [
    {
     "name": "stdout",
     "output_type": "stream",
     "text": [
      "(1, 'Lalit', 32, 'Java')\n",
      "(2, 'Rahul', 24, 'Python')\n",
      "(3, 'Saurav', 28, 'JS')\n"
     ]
    }
   ],
   "source": [
    "cursor.execute(\n",
    "    '''\n",
    "Select * from employees\n",
    "'''\n",
    ")\n",
    "rows = cursor.fetchall() # it will fetch all the data on the basis of query\n",
    "\n",
    "for row in rows:\n",
    "    print(row)"
   ]
  },
  {
   "cell_type": "code",
   "execution_count": 15,
   "metadata": {},
   "outputs": [],
   "source": [
    "#Update the data in the table\n",
    "cursor.execute(\n",
    "    ''' update employees set age=50 where name=\"Saurav\"'''\n",
    "    \n",
    ")\n",
    "connection.commit()"
   ]
  },
  {
   "cell_type": "code",
   "execution_count": 16,
   "metadata": {},
   "outputs": [
    {
     "name": "stdout",
     "output_type": "stream",
     "text": [
      "(1, 'Lalit', 32, 'Java')\n",
      "(2, 'Rahul', 24, 'Python')\n",
      "(3, 'Saurav', 50, 'JS')\n"
     ]
    }
   ],
   "source": [
    "cursor.execute(\n",
    "    '''\n",
    "Select * from employees\n",
    "'''\n",
    ")\n",
    "rows = cursor.fetchall() # it will fetch all the data on the basis of query\n",
    "\n",
    "for row in rows:\n",
    "    print(row)"
   ]
  },
  {
   "cell_type": "code",
   "execution_count": 17,
   "metadata": {},
   "outputs": [],
   "source": [
    "#Delete the data from the table\n",
    "cursor.execute(\n",
    "    ''' delete from employees where name =\"Saurav\"'''\n",
    ")\n",
    "connection.commit()"
   ]
  },
  {
   "cell_type": "code",
   "execution_count": 18,
   "metadata": {},
   "outputs": [
    {
     "name": "stdout",
     "output_type": "stream",
     "text": [
      "(1, 'Lalit', 32, 'Java')\n",
      "(2, 'Rahul', 24, 'Python')\n"
     ]
    }
   ],
   "source": [
    "cursor.execute(\n",
    "    '''\n",
    "Select * from employees\n",
    "'''\n",
    ")\n",
    "rows = cursor.fetchall() # it will fetch all the data on the basis of query\n",
    "\n",
    "for row in rows:\n",
    "    print(row)"
   ]
  },
  {
   "cell_type": "code",
   "execution_count": 19,
   "metadata": {},
   "outputs": [],
   "source": [
    "## Working Wwith Sales Data\n",
    "# Connect to an SQLite database\n",
    "connection = sqlite3.connect('sales_data.db')\n",
    "cursor = connection.cursor()\n",
    "\n",
    "# Create a table for sales data\n",
    "cursor.execute('''\n",
    "CREATE TABLE IF NOT EXISTS sales (\n",
    "    id INTEGER PRIMARY KEY,\n",
    "    date TEXT NOT NULL,\n",
    "    product TEXT NOT NULL,\n",
    "    sales INTEGER,\n",
    "    region TEXT\n",
    ")\n",
    "''')\n",
    "\n",
    "# Insert data into the sales table\n",
    "sales_data = [\n",
    "    ('2023-01-01', 'Product1', 100, 'North'),\n",
    "    ('2023-01-02', 'Product2', 200, 'South'),\n",
    "    ('2023-01-03', 'Product1', 150, 'East'),\n",
    "    ('2023-01-04', 'Product3', 250, 'West'),\n",
    "    ('2023-01-05', 'Product2', 300, 'North')\n",
    "]\n",
    "\n",
    "cursor.executemany('''\n",
    "Insert into sales(date,product,sales,region)\n",
    "                   values(?,?,?,?)\n",
    "''',sales_data)\n",
    "\n",
    "connection.commit()"
   ]
  },
  {
   "cell_type": "code",
   "execution_count": 21,
   "metadata": {},
   "outputs": [
    {
     "name": "stdout",
     "output_type": "stream",
     "text": [
      "(1, '2023-01-01', 'Product1', 100, 'North')\n",
      "(2, '2023-01-02', 'Product2', 200, 'South')\n",
      "(3, '2023-01-03', 'Product1', 150, 'East')\n",
      "(4, '2023-01-04', 'Product3', 250, 'West')\n",
      "(5, '2023-01-05', 'Product2', 300, 'North')\n"
     ]
    }
   ],
   "source": [
    "cursor.execute(\n",
    "    '''\n",
    "Select * from sales\n",
    "'''\n",
    ")\n",
    "rows = cursor.fetchall() # it will fetch all the data on the basis of query\n",
    "\n",
    "for row in rows:\n",
    "    print(row)"
   ]
  },
  {
   "cell_type": "code",
   "execution_count": null,
   "metadata": {},
   "outputs": [],
   "source": []
  }
 ],
 "metadata": {
  "kernelspec": {
   "display_name": "Python 3",
   "language": "python",
   "name": "python3"
  },
  "language_info": {
   "codemirror_mode": {
    "name": "ipython",
    "version": 3
   },
   "file_extension": ".py",
   "mimetype": "text/x-python",
   "name": "python",
   "nbconvert_exporter": "python",
   "pygments_lexer": "ipython3",
   "version": "3.12.0"
  }
 },
 "nbformat": 4,
 "nbformat_minor": 2
}
