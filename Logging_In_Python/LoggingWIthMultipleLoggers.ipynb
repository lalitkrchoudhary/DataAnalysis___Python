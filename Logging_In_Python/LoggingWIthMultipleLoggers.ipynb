{
 "cells": [
  {
   "cell_type": "markdown",
   "metadata": {},
   "source": [
    "### Logging with Multiple Loggers\n"
   ]
  },
  {
   "cell_type": "code",
   "execution_count": 4,
   "metadata": {},
   "outputs": [],
   "source": [
    "import logging\n",
    "#Create a logger for module1\n",
    "logger1=logging.getLogger(\"module1\")\n",
    "logger1.setLevel(logging.DEBUG)\n",
    "\n",
    "\n",
    "#Create a logger for module2\n",
    "logger2=logging.getLogger(\"module2\")\n",
    "logger2.setLevel(logging.ERROR)\n",
    "\n",
    "logging.basicConfig(\n",
    "    filename='app.log', #This will create a file with name app.log\n",
    "    filemode='w',  #this is basically the write mode\n",
    "    level=logging.DEBUG,\n",
    "    format='%(asctime)s-%(name)s-%(levelname)s%(message)s',\n",
    "    datefmt='%Y-%m-%d %H:%M:%S'\n",
    "\n",
    ")\n",
    "\n"
   ]
  },
  {
   "cell_type": "code",
   "execution_count": 6,
   "metadata": {},
   "outputs": [],
   "source": [
    "#log message with different loggers\n",
    "#Instead of root it will show module1, module2 etc\n",
    "logger1.debug('This is a debug message from module1')\n",
    "logger2.warning('This is a warning message from module2')\n",
    "logger2.error('This is a error message with module2')"
   ]
  },
  {
   "cell_type": "code",
   "execution_count": null,
   "metadata": {},
   "outputs": [],
   "source": []
  }
 ],
 "metadata": {
  "kernelspec": {
   "display_name": "Python 3",
   "language": "python",
   "name": "python3"
  },
  "language_info": {
   "codemirror_mode": {
    "name": "ipython",
    "version": 3
   },
   "file_extension": ".py",
   "mimetype": "text/x-python",
   "name": "python",
   "nbconvert_exporter": "python",
   "pygments_lexer": "ipython3",
   "version": "3.12.0"
  }
 },
 "nbformat": 4,
 "nbformat_minor": 2
}
